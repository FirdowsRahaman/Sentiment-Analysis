{
 "cells": [
  {
   "cell_type": "code",
   "execution_count": 1,
   "metadata": {},
   "outputs": [],
   "source": [
    "import tensorflow as tf\n",
    "\n",
    "from tensorflow.python.ops.ragged import ragged_tensor\n",
    "from tensorflow.python.ops.ragged import ragged_functional_ops\n",
    "from tensorflow.python.ops import gen_string_ops\n",
    "from tensorflow.python.ops import array_ops\n",
    "from tensorflow.python.ops import string_ops\n",
    "from tensorflow.python.ops.ragged import ragged_string_ops\n",
    "from tensorflow.python.framework import ops\n",
    "from tensorflow.python.util import compat\n",
    "from tensorflow.python.data.ops import dataset_ops\n",
    "\n",
    "\n",
    "MAX_SEQUENCE_LENGTH = 50\n",
    "DEFAULT_STRIP_REGEX = r'[’!\"#$%&()\\*\\+,-\\./:;<=>?@\\[\\\\\\]^_`{|}~\\']'\n",
    "\n",
    "def _preprocess(inputs):\n",
    "    if ragged_tensor.is_ragged(inputs):\n",
    "        lowercase_inputs = ragged_functional_ops.map_flat_values(\n",
    "            gen_string_ops.string_lower, inputs)\n",
    "        lowercase_inputs = array_ops.identity(lowercase_inputs)\n",
    "    else:\n",
    "        lowercase_inputs = gen_string_ops.string_lower(inputs)\n",
    "    inputs = string_ops.regex_replace(lowercase_inputs, DEFAULT_STRIP_REGEX,\n",
    "                                        \" \")\n",
    "    tokens = ragged_string_ops.string_split_v2(inputs)\n",
    "    return tokens\n",
    "\n",
    "def Preprocess_text(sen):\n",
    "    token = _preprocess(sen)\n",
    "    words = token.to_tensor(shape=(None, MAX_SEQUENCE_LENGTH))\n",
    "    init = tf.lookup.TextFileInitializer(filename=VOCAB_FILE_PATH, \n",
    "                              key_dtype=tf.string, \n",
    "                              key_index=0,\n",
    "                              value_dtype=tf.int64, \n",
    "                              value_index=1,\n",
    "                              vocab_size=None,\n",
    "                              delimiter=',')\n",
    "    table = tf.lookup.StaticVocabularyTable(initializer=init, num_oov_buckets=1)\n",
    "    word2numbers = table.lookup(words)\n",
    "    return word2numbers"
   ]
  },
  {
   "cell_type": "code",
   "execution_count": 2,
   "metadata": {},
   "outputs": [],
   "source": [
    "VOCAB_FILE_PATH = 'saved_model/assets/vocab.txt'\n",
    "saved_model_path = 'saved_model'"
   ]
  },
  {
   "cell_type": "code",
   "execution_count": 3,
   "metadata": {},
   "outputs": [],
   "source": [
    "loaded_model = tf.saved_model.load(saved_model_path)\n",
    "infer = loaded_model.signatures[\"serving_default\"]"
   ]
  },
  {
   "cell_type": "code",
   "execution_count": 4,
   "metadata": {},
   "outputs": [],
   "source": [
    "sen = [\n",
    "           \"Taste is too good. Loved the way they treated us. Ambience is good.\",\n",
    "           \"took my money and not delivered my food, without delivering they closed \\\n",
    "            it as delivered till now I didn't receive my money.\",\n",
    "           \"not bad. guava and ginger ice cream was different but a bit syrupy with some candied strawberries. \\\n",
    "            i did not like the thick syrup . But overall nothing bad.\"\n",
    "]"
   ]
  },
  {
   "cell_type": "code",
   "execution_count": 5,
   "metadata": {},
   "outputs": [],
   "source": [
    "sen_batch = Preprocess_text(sen)"
   ]
  },
  {
   "cell_type": "code",
   "execution_count": 6,
   "metadata": {},
   "outputs": [
    {
     "data": {
      "text/plain": [
       "[<tf.Tensor: shape=(), dtype=int64, numpy=4>,\n",
       " <tf.Tensor: shape=(), dtype=int64, numpy=0>,\n",
       " <tf.Tensor: shape=(), dtype=int64, numpy=2>]"
      ]
     },
     "execution_count": 6,
     "metadata": {},
     "output_type": "execute_result"
    }
   ],
   "source": [
    "result = infer(tf.constant(sen_batch))\n",
    "list(tf.argmax(result['dense_1'], axis=-1))"
   ]
  },
  {
   "cell_type": "code",
   "execution_count": null,
   "metadata": {},
   "outputs": [],
   "source": []
  }
 ],
 "metadata": {
  "kernelspec": {
   "display_name": "Python 3",
   "language": "python",
   "name": "python3"
  },
  "language_info": {
   "codemirror_mode": {
    "name": "ipython",
    "version": 3
   },
   "file_extension": ".py",
   "mimetype": "text/x-python",
   "name": "python",
   "nbconvert_exporter": "python",
   "pygments_lexer": "ipython3",
   "version": "3.7.6"
  }
 },
 "nbformat": 4,
 "nbformat_minor": 4
}
